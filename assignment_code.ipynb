{
 "cells": [
  {
   "cell_type": "code",
   "execution_count": null,
   "metadata": {},
   "outputs": [],
   "source": [
    "# !pip install pyspark==3.5.1\n",
    "import pandas as pd\n",
    "import matplotlib.pyplot as plt\n",
    "import seaborn as sns\n",
    "\n",
    "from pyspark.sql import SparkSession\n",
    "from pyspark.sql.functions import when, to_timestamp, col, lit, count, when, avg, sum, hour, unix_timestamp, expr, mean, stddev, count, corr, date_format, year, month, dayofmonth, to_date\n",
    "from pyspark.sql.functions import sum as spark_sum  \n",
    "from pyspark.sql import functions as F\n",
    "from pyspark.sql.types import StructType, StructField, StringType, TimestampType, BooleanType, DoubleType, IntegerType"
   ]
  },
  {
   "cell_type": "markdown",
   "metadata": {},
   "source": [
    "# Preprocessing"
   ]
  },
  {
   "cell_type": "code",
   "execution_count": null,
   "metadata": {},
   "outputs": [],
   "source": [
    "# Create Spark session with specific configurations\n",
    "spark = SparkSession.builder.master(\"local[*]\").config(\"spark.sql.legacy.timeParserPolicy\", \"LEGACY\").getOrCreate()"
   ]
  },
  {
   "cell_type": "code",
   "execution_count": null,
   "metadata": {},
   "outputs": [],
   "source": [
    "df = spark.read.csv('2021_Green_Taxi_Trip_Data.csv',header=True)\n",
    "\n",
    "# Save a 'copy' of the original dataframe so it can be used later if needed\n",
    "original_df = df"
   ]
  },
  {
   "cell_type": "code",
   "execution_count": null,
   "metadata": {},
   "outputs": [],
   "source": [
    "df.show(5)"
   ]
  },
  {
   "cell_type": "code",
   "execution_count": null,
   "metadata": {},
   "outputs": [],
   "source": [
    "df.printSchema()"
   ]
  },
  {
   "cell_type": "code",
   "execution_count": null,
   "metadata": {},
   "outputs": [],
   "source": [
    "# Currently the schema shows that all columns data types are strings - when they shouldn't all be strings. \n",
    "# We can create a new schema with specified data types for each column\n",
    "schema = StructType([\n",
    "    StructField('VendorID', IntegerType(), True),\n",
    "    StructField('lpep_pickup_datetime', StringType(), True), # Reading in as string initially\n",
    "    StructField('lpep_dropoff_datetime', StringType(), True), # Reading in as string initially\n",
    "    StructField('store_and_fwd_flag', StringType(), True),\n",
    "    StructField('RatecodeID', IntegerType(), True),\n",
    "    StructField('PULocationID', IntegerType(), True),\n",
    "    StructField('DOLocationID', IntegerType(), True),\n",
    "    StructField('passenger_count', IntegerType(), True),\n",
    "    StructField('trip_distance', DoubleType(), True),\n",
    "    StructField('fare_amount', DoubleType(), True),\n",
    "    StructField('extra', DoubleType(), True),\n",
    "    StructField('mta_tax', DoubleType(), True),\n",
    "    StructField('tip_amount', DoubleType(), True),\n",
    "    StructField('tolls_amount', DoubleType(), True),\n",
    "    StructField('ehail_fee', DoubleType(), True),\n",
    "    StructField('improvement_surcharge', DoubleType(), True),\n",
    "    StructField('total_amount', DoubleType(), True),\n",
    "    StructField('payment_type', IntegerType(), True),\n",
    "    StructField('trip_type', IntegerType(), True),\n",
    "    StructField('congestion_surcharge', DoubleType(), True)\n",
    "])"
   ]
  },
  {
   "cell_type": "code",
   "execution_count": null,
   "metadata": {},
   "outputs": [],
   "source": [
    "# Read in dataframe again, this time using the new schema\n",
    "df = spark.read.csv('2021_Green_Taxi_Trip_Data.csv', schema=schema, header=True)"
   ]
  },
  {
   "cell_type": "code",
   "execution_count": null,
   "metadata": {},
   "outputs": [],
   "source": [
    "df.show(5)"
   ]
  },
  {
   "cell_type": "code",
   "execution_count": null,
   "metadata": {},
   "outputs": [],
   "source": [
    "# Convert the datetime columns to TimestampType\n",
    "# Using HH uses 24 hour time format e.g. 0-23 for hours, using hh uses 12 hour format e.g. 1-12 for hours\n",
    "df = df.withColumn('lpep_pickup_datetime', to_timestamp('lpep_pickup_datetime', 'MM/dd/yyyy HH:mm:ss'))\n",
    "df = df.withColumn('lpep_dropoff_datetime', to_timestamp('lpep_dropoff_datetime', 'MM/dd/yyyy HH:mm:ss'))"
   ]
  },
  {
   "cell_type": "code",
   "execution_count": null,
   "metadata": {},
   "outputs": [],
   "source": [
    "df.printSchema()"
   ]
  },
  {
   "cell_type": "code",
   "execution_count": null,
   "metadata": {},
   "outputs": [],
   "source": [
    "def print_unique_date_components(df, date_column):\n",
    "    passed_df = df\n",
    "\n",
    "    # Convert the timestamp to date\n",
    "    passed_df = passed_df.withColumn(\"Date\", to_date(passed_df[date_column]))\n",
    "\n",
    "    # Extracting year, month, day from date column\n",
    "    passed_df = passed_df.withColumn(\"Year\", year(passed_df[\"Date\"]))\n",
    "    passed_df = passed_df.withColumn(\"Month\", month(passed_df[\"Date\"]))\n",
    "    passed_df = passed_df.withColumn(\"Day\", dayofmonth(passed_df[\"Date\"]))\n",
    "\n",
    "    # Get all unique days\n",
    "    unique_days_df = passed_df.select(\"Day\").distinct().orderBy(\"Day\")\n",
    "    unique_days = [row[\"Day\"] for row in unique_days_df.collect()]\n",
    "    print(f\"Unique Days: {unique_days}\")\n",
    "\n",
    "    # Get all unique months\n",
    "    unique_months_df = passed_df.select(\"Month\").distinct().orderBy(\"Month\")\n",
    "    unique_months = [row[\"Month\"] for row in unique_months_df.collect()]\n",
    "    print(f\"Unique Months: {unique_months}\")\n",
    "\n",
    "    # Get all unique years\n",
    "    unique_years_df = passed_df.select(\"Year\").distinct().orderBy(\"Year\")\n",
    "    unique_years = [row[\"Year\"] for row in unique_years_df.collect()]\n",
    "    print(f\"Unique Years: {unique_years}\")\n",
    "\n",
    "    # Get the number of unique dates\n",
    "    unique_dates_count = passed_df.select(\"Date\").distinct().count()\n",
    "    print(f\"Number of Unique Dates: {unique_dates_count}\")\n"
   ]
  },
  {
   "cell_type": "code",
   "execution_count": null,
   "metadata": {},
   "outputs": [],
   "source": [
    "print_unique_date_components(df, 'lpep_pickup_datetime')"
   ]
  },
  {
   "cell_type": "code",
   "execution_count": null,
   "metadata": {},
   "outputs": [],
   "source": [
    "print_unique_date_components(df, 'lpep_dropoff_datetime')"
   ]
  },
  {
   "cell_type": "code",
   "execution_count": null,
   "metadata": {},
   "outputs": [],
   "source": [
    "# Changes dates to NULL if year is not 2020, 2021 or 2022\n",
    "df = df.withColumn(\n",
    "    'lpep_pickup_datetime',\n",
    "    when(year(col('lpep_pickup_datetime')).isin([2020, 2021, 2022]), col('lpep_pickup_datetime')).otherwise(None)\n",
    ").withColumn(\n",
    "    'lpep_dropoff_datetime',\n",
    "    when(year(col('lpep_dropoff_datetime')).isin([2020, 2021, 2022]), col('lpep_dropoff_datetime')).otherwise(None)\n",
    ")"
   ]
  },
  {
   "cell_type": "code",
   "execution_count": null,
   "metadata": {},
   "outputs": [],
   "source": [
    "print_unique_date_components(df, 'lpep_pickup_datetime')"
   ]
  },
  {
   "cell_type": "code",
   "execution_count": null,
   "metadata": {},
   "outputs": [],
   "source": [
    "print_unique_date_components(df, 'lpep_dropoff_datetime')"
   ]
  },
  {
   "cell_type": "code",
   "execution_count": null,
   "metadata": {},
   "outputs": [],
   "source": [
    "df.show(5)"
   ]
  },
  {
   "cell_type": "code",
   "execution_count": null,
   "metadata": {},
   "outputs": [],
   "source": [
    "# Info about mapped values (below) can be found at https://www.nyc.gov/site/tlc/about/tlc-trip-record-data.page\n",
    "# Mapping values for columns using when \n",
    "df = df.withColumn('VendorID', \n",
    "                   when(col('VendorID') == 1, 'Creative Mobile Technologies, LLC')\n",
    "                   .when(col('VendorID') == 2, 'VeriFone Inc.')\n",
    "                   .otherwise('Unknown')) \\\n",
    "       .withColumn('RatecodeID', \n",
    "                   when(col('RatecodeID') == 1, 'Standard rate')\n",
    "                   .when(col('RatecodeID') == 2, 'JFK')\n",
    "                   .when(col('RatecodeID') == 3, 'Newark')\n",
    "                   .when(col('RatecodeID') == 4, 'Nassau or Westchester')\n",
    "                   .when(col('RatecodeID') == 5, 'Negotiated fare')\n",
    "                   .when(col('RatecodeID') == 6, 'Group ride')\n",
    "                   .otherwise('Unknown')) \\\n",
    "       .withColumn('payment_type', \n",
    "                   when(col('payment_type') == 1, 'Credit card')\n",
    "                   .when(col('payment_type') == 2, 'Cash')\n",
    "                   .when(col('payment_type') == 3, 'No charge')\n",
    "                   .when(col('payment_type') == 4, 'Dispute')\n",
    "                   .when(col('payment_type') == 5, 'Unknown')\n",
    "                   .when(col('payment_type') == 6, 'Voided trip')\n",
    "                   .otherwise('Unknown')) \\\n",
    "       .withColumn('trip_type', \n",
    "                   when(col('trip_type') == 1, 'Street-hail')\n",
    "                   .when(col('trip_type') == 2, 'Dispatch')\n",
    "                   .otherwise('Unknown'))\n",
    "\n",
    "df = df.withColumnRenamed('VendorID', 'vendor_name') \\\n",
    "       .withColumnRenamed('RatecodeID', 'rate_code') \n",
    "\n",
    "df.show(5,truncate=False)"
   ]
  },
  {
   "cell_type": "code",
   "execution_count": null,
   "metadata": {},
   "outputs": [],
   "source": [
    "df.printSchema()"
   ]
  },
  {
   "cell_type": "code",
   "execution_count": null,
   "metadata": {},
   "outputs": [],
   "source": [
    "# 'PULocationID' and 'DOLocationID' columns are still numbers \n",
    "# However we can create a separate dataframe for this data\n",
    "# This info is available here https://d37ci6vzurychx.cloudfront.net/misc/taxi_zone_lookup.csv\n",
    "\n",
    "taxi_zone_data = [\n",
    "    (1, \"EWR\", \"Newark Airport\", \"EWR\"),\n",
    "    (2, \"Queens\", \"Jamaica Bay\", \"Boro Zone\"),\n",
    "    (3, \"Bronx\", \"Allerton/Pelham Gardens\", \"Boro Zone\"),\n",
    "    (4, \"Manhattan\", \"Alphabet City\", \"Yellow Zone\"),\n",
    "    (5, \"Staten Island\", \"Arden Heights\", \"Boro Zone\"),\n",
    "    (6, \"Staten Island\", \"Arrochar/Fort Wadsworth\", \"Boro Zone\"),\n",
    "    (7, \"Queens\", \"Astoria\", \"Boro Zone\"),\n",
    "    (8, \"Queens\", \"Astoria Park\", \"Boro Zone\"),\n",
    "    (9, \"Queens\", \"Auburndale\", \"Boro Zone\"),\n",
    "    (10, \"Queens\", \"Baisley Park\", \"Boro Zone\"),\n",
    "    (11, \"Brooklyn\", \"Bath Beach\", \"Boro Zone\"),\n",
    "    (12, \"Manhattan\", \"Battery Park\", \"Yellow Zone\"),\n",
    "    (13, \"Manhattan\", \"Battery Park City\", \"Yellow Zone\"),\n",
    "    (14, \"Brooklyn\", \"Bay Ridge\", \"Boro Zone\"),\n",
    "    (15, \"Queens\", \"Bay Terrace/Fort Totten\", \"Boro Zone\"),\n",
    "    (16, \"Queens\", \"Bayside\", \"Boro Zone\"),\n",
    "    (17, \"Brooklyn\", \"Bedford\", \"Boro Zone\"),\n",
    "    (18, \"Bronx\", \"Bedford Park\", \"Boro Zone\"),\n",
    "    (19, \"Queens\", \"Bellerose\", \"Boro Zone\"),\n",
    "    (20, \"Bronx\", \"Belmont\", \"Boro Zone\"),\n",
    "    (21, \"Brooklyn\", \"Bensonhurst East\", \"Boro Zone\"),\n",
    "    (22, \"Brooklyn\", \"Bensonhurst West\", \"Boro Zone\"),\n",
    "    (23, \"Staten Island\", \"Bloomfield/Emerson Hill\", \"Boro Zone\"),\n",
    "    (24, \"Manhattan\", \"Bloomingdale\", \"Yellow Zone\"),\n",
    "    (25, \"Brooklyn\", \"Boerum Hill\", \"Boro Zone\"),\n",
    "    (26, \"Brooklyn\", \"Borough Park\", \"Boro Zone\"),\n",
    "    (27, \"Queens\", \"Breezy Point/Fort Tilden/Riis Beach\", \"Boro Zone\"),\n",
    "    (28, \"Queens\", \"Briarwood/Jamaica Hills\", \"Boro Zone\"),\n",
    "    (29, \"Brooklyn\", \"Brighton Beach\", \"Boro Zone\"),\n",
    "    (30, \"Queens\", \"Broad Channel\", \"Boro Zone\"),\n",
    "    (31, \"Bronx\", \"Bronx Park\", \"Boro Zone\"),\n",
    "    (32, \"Bronx\", \"Bronxdale\", \"Boro Zone\"),\n",
    "    (33, \"Brooklyn\", \"Brooklyn Heights\", \"Boro Zone\"),\n",
    "    (34, \"Brooklyn\", \"Brooklyn Navy Yard\", \"Boro Zone\"),\n",
    "    (35, \"Brooklyn\", \"Brownsville\", \"Boro Zone\"),\n",
    "    (36, \"Brooklyn\", \"Bushwick North\", \"Boro Zone\"),\n",
    "    (37, \"Brooklyn\", \"Bushwick South\", \"Boro Zone\"),\n",
    "    (38, \"Queens\", \"Cambria Heights\", \"Boro Zone\"),\n",
    "    (39, \"Brooklyn\", \"Canarsie\", \"Boro Zone\"),\n",
    "    (40, \"Brooklyn\", \"Carroll Gardens\", \"Boro Zone\"),\n",
    "    (41, \"Manhattan\", \"Central Harlem\", \"Boro Zone\"),\n",
    "    (42, \"Manhattan\", \"Central Harlem North\", \"Boro Zone\"),\n",
    "    (43, \"Manhattan\", \"Central Park\", \"Yellow Zone\"),\n",
    "    (44, \"Staten Island\", \"Charleston/Tottenville\", \"Boro Zone\"),\n",
    "    (45, \"Manhattan\", \"Chinatown\", \"Yellow Zone\"),\n",
    "    (46, \"Bronx\", \"City Island\", \"Boro Zone\"),\n",
    "    (47, \"Bronx\", \"Claremont/Bathgate\", \"Boro Zone\"),\n",
    "    (48, \"Manhattan\", \"Clinton East\", \"Yellow Zone\"),\n",
    "    (49, \"Brooklyn\", \"Clinton Hill\", \"Boro Zone\"),\n",
    "    (50, \"Manhattan\", \"Clinton West\", \"Yellow Zone\"),\n",
    "    (51, \"Bronx\", \"Co-Op City\", \"Boro Zone\"),\n",
    "    (52, \"Brooklyn\", \"Cobble Hill\", \"Boro Zone\"),\n",
    "    (53, \"Queens\", \"College Point\", \"Boro Zone\"),\n",
    "    (54, \"Brooklyn\", \"Columbia Street\", \"Boro Zone\"),\n",
    "    (55, \"Brooklyn\", \"Coney Island\", \"Boro Zone\"),\n",
    "    (56, \"Queens\", \"Corona\", \"Boro Zone\"),\n",
    "    (57, \"Queens\", \"Corona\", \"Boro Zone\"),\n",
    "    (58, \"Bronx\", \"Country Club\", \"Boro Zone\"),\n",
    "    (59, \"Bronx\", \"Crotona Park\", \"Boro Zone\"),\n",
    "    (60, \"Bronx\", \"Crotona Park East\", \"Boro Zone\"),\n",
    "    (61, \"Brooklyn\", \"Crown Heights North\", \"Boro Zone\"),\n",
    "    (62, \"Brooklyn\", \"Crown Heights South\", \"Boro Zone\"),\n",
    "    (63, \"Brooklyn\", \"Cypress Hills\", \"Boro Zone\"),\n",
    "    (64, \"Queens\", \"Douglaston\", \"Boro Zone\"),\n",
    "    (65, \"Brooklyn\", \"Downtown Brooklyn/MetroTech\", \"Boro Zone\"),\n",
    "    (66, \"Brooklyn\", \"DUMBO/Vinegar Hill\", \"Boro Zone\"),\n",
    "    (67, \"Brooklyn\", \"Dyker Heights\", \"Boro Zone\"),\n",
    "    (68, \"Manhattan\", \"East Chelsea\", \"Yellow Zone\"),\n",
    "    (69, \"Bronx\", \"East Concourse/Concourse Village\", \"Boro Zone\"),\n",
    "    (70, \"Queens\", \"East Elmhurst\", \"Boro Zone\"),\n",
    "    (71, \"Brooklyn\", \"East Flatbush/Farragut\", \"Boro Zone\"),\n",
    "    (72, \"Brooklyn\", \"East Flatbush/Remsen Village\", \"Boro Zone\"),\n",
    "    (73, \"Queens\", \"East Flushing\", \"Boro Zone\"),\n",
    "    (74, \"Manhattan\", \"East Harlem North\", \"Boro Zone\"),\n",
    "    (75, \"Manhattan\", \"East Harlem South\", \"Boro Zone\"),\n",
    "    (76, \"Brooklyn\", \"East New York\", \"Boro Zone\"),\n",
    "    (77, \"Brooklyn\", \"East New York/Pennsylvania Avenue\", \"Boro Zone\"),\n",
    "    (78, \"Bronx\", \"East Tremont\", \"Boro Zone\"),\n",
    "    (79, \"Manhattan\", \"East Village\", \"Yellow Zone\"),\n",
    "    (80, \"Brooklyn\", \"East Williamsburg\", \"Boro Zone\"),\n",
    "    (81, \"Bronx\", \"Eastchester\", \"Boro Zone\"),\n",
    "    (82, \"Queens\", \"Elmhurst\", \"Boro Zone\"),\n",
    "    (83, \"Queens\", \"Elmhurst/Maspeth\", \"Boro Zone\"),\n",
    "    (84, \"Staten Island\", \"Eltingville/Annadale/Prince's Bay\", \"Boro Zone\"),\n",
    "    (85, \"Brooklyn\", \"Erasmus\", \"Boro Zone\"),\n",
    "    (86, \"Queens\", \"Far Rockaway\", \"Boro Zone\"),\n",
    "    (87, \"Manhattan\", \"Financial District North\", \"Yellow Zone\"),\n",
    "    (88, \"Manhattan\", \"Financial District South\", \"Yellow Zone\"),\n",
    "    (89, \"Brooklyn\", \"Flatbush/Ditmas Park\", \"Boro Zone\"),\n",
    "    (90, \"Manhattan\", \"Flatiron\", \"Yellow Zone\"),\n",
    "    (91, \"Brooklyn\", \"Flatlands\", \"Boro Zone\"),\n",
    "    (92, \"Queens\", \"Flushing\", \"Boro Zone\"),\n",
    "    (93, \"Queens\", \"Flushing Meadows-Corona Park\", \"Boro Zone\"),\n",
    "    (94, \"Bronx\", \"Fordham South\", \"Boro Zone\"),\n",
    "    (95, \"Queens\", \"Forest Hills\", \"Boro Zone\"),\n",
    "    (96, \"Queens\", \"Forest Park/Highland Park\", \"Boro Zone\"),\n",
    "    (97, \"Brooklyn\", \"Fort Greene\", \"Boro Zone\"),\n",
    "    (98, \"Queens\", \"Fresh Meadows\", \"Boro Zone\"),\n",
    "    (99, \"Staten Island\", \"Freshkills Park\", \"Boro Zone\"),\n",
    "    (100, \"Manhattan\", \"Garment District\", \"Yellow Zone\"),\n",
    "    (101, \"Queens\", \"Glen Oaks\", \"Boro Zone\"),\n",
    "    (102, \"Queens\", \"Glendale\", \"Boro Zone\"),\n",
    "    (103, \"Manhattan\", \"Governor's Island/Ellis Island/Liberty Island\", \"Yellow Zone\"),\n",
    "    (104, \"Manhattan\", \"Governor's Island/Ellis Island/Liberty Island\", \"Yellow Zone\"),\n",
    "    (105, \"Manhattan\", \"Governor's Island/Ellis Island/Liberty Island\", \"Yellow Zone\"),\n",
    "    (106, \"Brooklyn\", \"Gowanus\", \"Boro Zone\"),\n",
    "    (107, \"Manhattan\", \"Gramercy\", \"Yellow Zone\"),\n",
    "    (108, \"Brooklyn\", \"Gravesend\", \"Boro Zone\"),\n",
    "    (109, \"Staten Island\", \"Great Kills\", \"Boro Zone\"),\n",
    "    (110, \"Staten Island\", \"Great Kills Park\", \"Boro Zone\"),\n",
    "    (111, \"Brooklyn\", \"Green-Wood Cemetery\", \"Boro Zone\"),\n",
    "    (112, \"Brooklyn\", \"Greenpoint\", \"Boro Zone\"),\n",
    "    (113, \"Manhattan\", \"Greenwich Village North\", \"Yellow Zone\"),\n",
    "    (114, \"Manhattan\", \"Greenwich Village South\", \"Yellow Zone\"),\n",
    "    (115, \"Staten Island\", \"Grymes Hill/Clifton\", \"Boro Zone\"),\n",
    "    (116, \"Manhattan\", \"Hamilton Heights\", \"Boro Zone\"),\n",
    "    (117, \"Brooklyn\", \"Hammels/Arverne\", \"Boro Zone\"),\n",
    "    (118, \"Staten Island\", \"Heartland Village/Todt Hill\", \"Boro Zone\"),\n",
    "    (119, \"Bronx\", \"Highbridge\", \"Boro Zone\"),\n",
    "    (120, \"Queens\", \"Hillcrest/Pomonok\", \"Boro Zone\"),\n",
    "    (121, \"Queens\", \"Hollis\", \"Boro Zone\"),\n",
    "    (122, \"Brooklyn\", \"Homecrest\", \"Boro Zone\"),\n",
    "    (123, \"Queens\", \"Howard Beach\", \"Boro Zone\"),\n",
    "    (124, \"Bronx\", \"Hunts Point\", \"Boro Zone\"),\n",
    "    (125, \"Brooklyn\", \"Jackie Robinson Park\", \"Boro Zone\"),\n",
    "    (126, \"Manhattan\", \"Javits Center\", \"Yellow Zone\"),\n",
    "    (127, \"Brooklyn\", \"Kensington\", \"Boro Zone\"),\n",
    "    (128, \"Queens\", \"Kew Gardens\", \"Boro Zone\"),\n",
    "    (129, \"Queens\", \"Kew Gardens Hills\", \"Boro Zone\"),\n",
    "    (130, \"Bronx\", \"Kingsbridge Heights\", \"Boro Zone\"),\n",
    "    (131, \"Manhattan\", \"Kips Bay\", \"Yellow Zone\"),\n",
    "    (132, \"Brooklyn\", \"LaGuardia Airport\", \"Boro Zone\"),\n",
    "    (133, \"Queens\", \"Laurelton\", \"Boro Zone\"),\n",
    "    (134, \"Brooklyn\", \"Lefferts Gardens\", \"Boro Zone\"),\n",
    "    (135, \"Brooklyn\", \"Lindenwood\", \"Boro Zone\"),\n",
    "    (136, \"Manhattan\", \"Little Italy/NoLiTa\", \"Yellow Zone\"),\n",
    "    (137, \"Queens\", \"Long Island City/Hunters Point\", \"Boro Zone\"),\n",
    "    (138, \"Queens\", \"Long Island City/Queens Plaza\", \"Boro Zone\"),\n",
    "    (139, \"Bronx\", \"Longwood\", \"Boro Zone\"),\n",
    "    (140, \"Brooklyn\", \"Madison\", \"Boro Zone\"),\n",
    "    (141, \"Manhattan\", \"Manhattan Beach\", \"Yellow Zone\"),\n",
    "    (142, \"Queens\", \"Manhattanville\", \"Boro Zone\"),\n",
    "    (143, \"Brooklyn\", \"Manor Heights/Fingerboard Road\", \"Boro Zone\"),\n",
    "    (144, \"Brooklyn\", \"Marine Park/Floyd Bennett Field\", \"Boro Zone\"),\n",
    "    (145, \"Brooklyn\", \"Mariners Harbor\", \"Boro Zone\"),\n",
    "    (146, \"Brooklyn\", \"Maspeth\", \"Boro Zone\"),\n",
    "    (147, \"Manhattan\", \"Meatpacking/West Village West\", \"Yellow Zone\"),\n",
    "    (148, \"Manhattan\", \"Melrose South\", \"Boro Zone\"),\n",
    "    (149, \"Brooklyn\", \"Middle Village\", \"Boro Zone\"),\n",
    "    (150, \"Bronx\", \"Morrisania/Melrose\", \"Boro Zone\"),\n",
    "    (151, \"Bronx\", \"Mott Haven/Port Morris\", \"Boro Zone\"),\n",
    "    (152, \"Bronx\", \"Mount Hope\", \"Boro Zone\"),\n",
    "    (153, \"Manhattan\", \"Murray Hill\", \"Yellow Zone\"),\n",
    "    (154, \"Manhattan\", \"Navy Yard\", \"Yellow Zone\"),\n",
    "    (155, \"Queens\", \"Neponsit\", \"Boro Zone\"),\n",
    "    (156, \"Brooklyn\", \"New Lots\", \"Boro Zone\"),\n",
    "    (157, \"Staten Island\", \"New Springville/Bloomfield/Travis\", \"Boro Zone\"),\n",
    "    (158, \"Manhattan\", \"NoHo\", \"Yellow Zone\"),\n",
    "    (159, \"Brooklyn\", \"North Riverdale/Fieldston\", \"Boro Zone\"),\n",
    "    (160, \"Manhattan\", \"Norwood\", \"Boro Zone\"),\n",
    "    (161, \"Queens\", \"Oakland Gardens\", \"Boro Zone\"),\n",
    "    (162, \"Queens\", \"Ozone Park\", \"Boro Zone\"),\n",
    "    (163, \"Queens\", \"Park Slope\", \"Boro Zone\"),\n",
    "    (164, \"Queens\", \"Parkchester\", \"Boro Zone\"),\n",
    "    (165, \"Manhattan\", \"Pelham Bay\", \"Yellow Zone\"),\n",
    "    (166, \"Bronx\", \"Pelham Bay Park\", \"Boro Zone\"),\n",
    "    (167, \"Bronx\", \"Pelham Parkway\", \"Boro Zone\"),\n",
    "    (168, \"Brooklyn\", \"Plum Beach\", \"Boro Zone\"),\n",
    "    (169, \"Brooklyn\", \"Prospect Heights\", \"Boro Zone\"),\n",
    "    (170, \"Brooklyn\", \"Prospect-Lefferts Gardens\", \"Boro Zone\"),\n",
    "    (171, \"Manhattan\", \"Randalls Island\", \"Yellow Zone\"),\n",
    "    (172, \"Brooklyn\", \"Red Hook\", \"Boro Zone\"),\n",
    "    (173, \"Queens\", \"Rego Park\", \"Boro Zone\"),\n",
    "    (174, \"Queens\", \"Richmond Hill\", \"Boro Zone\"),\n",
    "    (175, \"Staten Island\", \"Ridgewood\", \"Boro Zone\"),\n",
    "    (176, \"Queens\", \"Rikers Island\", \"Boro Zone\"),\n",
    "    (177, \"Manhattan\", \"Roosevelt Island\", \"Yellow Zone\"),\n",
    "    (178, \"Queens\", \"Rosedale\", \"Boro Zone\"),\n",
    "    (179, \"Staten Island\", \"Rossville/Woodrow\", \"Boro Zone\"),\n",
    "    (180, \"Brooklyn\", \"Saint Albans\", \"Boro Zone\"),\n",
    "    (181, \"Brooklyn\", \"Saint George/New Brighton\", \"Boro Zone\"),\n",
    "    (182, \"Manhattan\", \"Saint Michaels Cemetery\", \"Yellow Zone\"),\n",
    "    (183, \"Queens\", \"Sheepshead Bay\", \"Boro Zone\"),\n",
    "    (184, \"Queens\", \"South Jamaica\", \"Boro Zone\"),\n",
    "    (185, \"Queens\", \"South Ozone Park\", \"Boro Zone\"),\n",
    "    (186, \"Queens\", \"Springfield Gardens North\", \"Boro Zone\"),\n",
    "    (187, \"Queens\", \"Springfield Gardens South\", \"Boro Zone\"),\n",
    "    (188, \"Bronx\", \"Spuyten Duyvil/Kingsbridge\", \"Boro Zone\"),\n",
    "    (189, \"Staten Island\", \"Stapleton\", \"Boro Zone\"),\n",
    "    (190, \"Brooklyn\", \"Starrett City\", \"Boro Zone\"),\n",
    "    (191, \"Manhattan\", \"Steinway\", \"Yellow Zone\"),\n",
    "    (192, \"Staten Island\", \"Stuyvesant Heights\", \"Boro Zone\"),\n",
    "    (193, \"Brooklyn\", \"Sunnyside\", \"Boro Zone\"),\n",
    "    (194, \"Manhattan\", \"Sunset Park East\", \"Yellow Zone\"),\n",
    "    (195, \"Queens\", \"Sunset Park West\", \"Boro Zone\"),\n",
    "    (196, \"Queens\", \"Sutton Place/Turtle Bay North\", \"Boro Zone\"),\n",
    "    (197, \"Manhattan\", \"Times Square/Theater District\", \"Yellow Zone\"),\n",
    "    (198, \"Manhattan\", \"TriBeCa/Civic Center\", \"Yellow Zone\"),\n",
    "    (199, \"Bronx\", \"University Heights/Morris Heights\", \"Boro Zone\"),\n",
    "    (200, \"Queens\", \"Upper East Side North\", \"Boro Zone\"),\n",
    "    (201, \"Manhattan\", \"Upper East Side South\", \"Yellow Zone\"),\n",
    "    (202, \"Bronx\", \"Upper West Side North\", \"Boro Zone\"),\n",
    "    (203, \"Manhattan\", \"Upper West Side South\", \"Yellow Zone\"),\n",
    "    (204, \"Manhattan\", \"Van Cortlandt Park\", \"Yellow Zone\"),\n",
    "    (205, \"Bronx\", \"Van Cortlandt Village\", \"Boro Zone\"),\n",
    "    (206, \"Queens\", \"Van Nest/Morris Park\", \"Boro Zone\"),\n",
    "    (207, \"Bronx\", \"Washington Heights North\", \"Boro Zone\"),\n",
    "    (208, \"Manhattan\", \"Washington Heights South\", \"Yellow Zone\"),\n",
    "    (209, \"Manhattan\", \"West Chelsea/Hudson Yards\", \"Yellow Zone\"),\n",
    "    (210, \"Bronx\", \"West Farms/Bronx River\", \"Boro Zone\"),\n",
    "    (211, \"Brooklyn\", \"West Brighton\", \"Boro Zone\"),\n",
    "    (212, \"Bronx\", \"West Concourse\", \"Boro Zone\"),\n",
    "    (213, \"Brooklyn\", \"West Maspeth\", \"Boro Zone\"),\n",
    "    (214, \"Queens\", \"West Village\", \"Yellow Zone\"),\n",
    "    (215, \"Queens\", \"Westchester Village/Unionport\", \"Boro Zone\"),\n",
    "    (216, \"Brooklyn\", \"Williamsbridge/Olinville\", \"Boro Zone\"),\n",
    "    (217, \"Brooklyn\", \"Williamsburg (North Side)\", \"Boro Zone\"),\n",
    "    (218, \"Brooklyn\", \"Williamsburg (South Side)\", \"Boro Zone\"),\n",
    "    (219, \"Brooklyn\", \"Windsor Terrace\", \"Boro Zone\"),\n",
    "    (220, \"Queens\", \"Woodhaven\", \"Boro Zone\"),\n",
    "    (221, \"Queens\", \"Woodside\", \"Boro Zone\"),\n",
    "    (222, \"Brooklyn\", \"Wyckoff Heights\", \"Boro Zone\"),\n",
    "    (223, \"Manhattan\", \"Yorkville\", \"Yellow Zone\"),\n",
    "    (224, \"Staten Island\", \"Woodlawn/Wakefield\", \"Boro Zone\"),\n",
    "    (225, \"Brooklyn\", \"Stuyvesant Heights\", \"Boro Zone\"),\n",
    "    (226, \"Queens\", \"Sunnyside\", \"Boro Zone\"),\n",
    "    (227, \"Brooklyn\", \"Sunset Park East\", \"Boro Zone\"),\n",
    "    (228, \"Brooklyn\", \"Sunset Park West\", \"Boro Zone\"),\n",
    "    (229, \"Manhattan\", \"Sutton Place/Turtle Bay North\", \"Yellow Zone\"),\n",
    "    (230, \"Manhattan\", \"Times Sq/Theatre District\", \"Yellow Zone\"),\n",
    "    (231, \"Manhattan\", \"TriBeCa/Civic Center\", \"Yellow Zone\"),\n",
    "    (232, \"Manhattan\", \"Two Bridges/Seward Park\", \"Yellow Zone\"),\n",
    "    (233, \"Manhattan\", \"UN/Turtle Bay South\", \"Yellow Zone\"),\n",
    "    (234, \"Manhattan\", \"Union Sq\", \"Yellow Zone\"),\n",
    "    (235, \"Bronx\", \"University Heights/Morris Heights\", \"Boro Zone\"),\n",
    "    (236, \"Manhattan\", \"Upper East Side North\", \"Yellow Zone\"),\n",
    "    (237, \"Manhattan\", \"Upper East Side South\", \"Yellow Zone\"),\n",
    "    (238, \"Manhattan\", \"Upper West Side North\", \"Yellow Zone\"),\n",
    "    (239, \"Manhattan\", \"Upper West Side South\", \"Yellow Zone\"),\n",
    "    (240, \"Bronx\", \"Van Cortlandt Park\", \"Boro Zone\"),\n",
    "    (241, \"Bronx\", \"Van Cortlandt Village\", \"Boro Zone\"),\n",
    "    (242, \"Bronx\", \"Van Nest/Morris Park\", \"Boro Zone\"),\n",
    "    (243, \"Manhattan\", \"Washington Heights North\", \"Boro Zone\"),\n",
    "    (244, \"Manhattan\", \"Washington Heights South\", \"Boro Zone\"),\n",
    "    (245, \"Staten Island\", \"West Brighton\", \"Boro Zone\"),\n",
    "    (246, \"Manhattan\", \"West Chelsea/Hudson Yards\", \"Yellow Zone\"),\n",
    "    (247, \"Bronx\", \"West Concourse\", \"Boro Zone\"),\n",
    "    (248, \"Bronx\", \"West Farms/Bronx River\", \"Boro Zone\"),\n",
    "    (249, \"Manhattan\", \"West Village\", \"Yellow Zone\"),\n",
    "    (250, \"Bronx\", \"Westchester Village/Unionport\", \"Boro Zone\"),\n",
    "    (251, \"Staten Island\", \"Westerleigh\", \"Boro Zone\"),\n",
    "    (252, \"Queens\", \"Whitestone\", \"Boro Zone\"),\n",
    "    (253, \"Queens\", \"Willets Point\", \"Boro Zone\"),\n",
    "    (254, \"Bronx\", \"Williamsbridge/Olinville\", \"Boro Zone\"),\n",
    "    (255, \"Brooklyn\", \"Williamsburg (North Side)\", \"Boro Zone\"),\n",
    "    (256, \"Brooklyn\", \"Williamsburg (South Side)\", \"Boro Zone\"),\n",
    "    (257, \"Brooklyn\", \"Windsor Terrace\", \"Boro Zone\"),\n",
    "    (258, \"Queens\", \"Woodhaven\", \"Boro Zone\"),\n",
    "    (259, \"Bronx\", \"Woodlawn/Wakefield\", \"Boro Zone\"),\n",
    "    (260, \"Queens\", \"Woodside\", \"Boro Zone\"),\n",
    "    (261, \"Manhattan\", \"World Trade Center\", \"Yellow Zone\"),\n",
    "    (262, \"Manhattan\", \"Yorkville East\", \"Yellow Zone\"),\n",
    "    (263, \"Manhattan\", \"Yorkville West\", \"Yellow Zone\"),\n",
    "    (264, \"Unknown\", \"N/A\", \"N/A\"),\n",
    "    (265, \"N/A\", \"Outside of NYC\", \"N/A\")\n",
    "]"
   ]
  },
  {
   "cell_type": "code",
   "execution_count": null,
   "metadata": {},
   "outputs": [],
   "source": [
    "schema = StructType([\n",
    "    StructField(\"LocationID\", IntegerType(), True),\n",
    "    StructField(\"Borough\", StringType(), True),\n",
    "    StructField(\"Zone\", StringType(), True),\n",
    "    StructField(\"service_zone\", StringType(), True)\n",
    "])\n",
    "\n",
    "taxi_zone_df = spark.createDataFrame(taxi_zone_data, schema)\n",
    "taxi_zone_df.show(truncate=False)"
   ]
  },
  {
   "cell_type": "code",
   "execution_count": null,
   "metadata": {},
   "outputs": [],
   "source": [
    "# Check for null values in each column\n",
    "null_counts = df.select([sum(when(col(c).isNull(), 1).otherwise(0)).alias(c) for c in df.columns])\n",
    "null_counts.show()"
   ]
  },
  {
   "cell_type": "code",
   "execution_count": null,
   "metadata": {},
   "outputs": [],
   "source": [
    "num_rows = df.count()\n",
    "num_columns = len(df.columns)\n",
    "\n",
    "print(f\"Number of rows: {num_rows}\")\n",
    "print(f\"Number of columns: {num_columns}\")"
   ]
  },
  {
   "cell_type": "markdown",
   "metadata": {},
   "source": [
    "# Analysis\n",
    "\n",
    "This section is split into smaller sections:\n",
    "* General Trip Analysis\n",
    "* Passenger and Trip Characteristics\n",
    "* Payment and Financial Analysis\n",
    "* Location-Based Analysis\n",
    "* Time-Based Analysis\n",
    "* Additional Questions \n"
   ]
  },
  {
   "cell_type": "markdown",
   "metadata": {},
   "source": [
    "### General Trip Analysis"
   ]
  },
  {
   "cell_type": "markdown",
   "metadata": {},
   "source": [
    "##### What is the distribution of trip distances? "
   ]
  },
  {
   "cell_type": "code",
   "execution_count": null,
   "metadata": {},
   "outputs": [],
   "source": [
    "# Calculate summary statistics for trip distances\n",
    "summary_stats = df.select(F.col('trip_distance')).summary()\n",
    "summary_stats.show()"
   ]
  },
  {
   "cell_type": "code",
   "execution_count": null,
   "metadata": {},
   "outputs": [],
   "source": [
    "# Convert Spark DataFrame to Pandas DataFrame for visualisation\n",
    "trip_distances = df.select('trip_distance').toPandas()\n",
    "\n",
    "plt.figure(figsize=(10, 6))\n",
    "plt.hist(trip_distances['trip_distance'], bins=50, edgecolor='black')\n",
    "plt.title('Distribution of Trip Distances')\n",
    "plt.xlabel('Trip Distance (miles)')\n",
    "plt.ylabel('Frequency')\n",
    "plt.yscale('log')  # Use a log scale for the y-axis to handle skewed distributions\n",
    "plt.show()"
   ]
  },
  {
   "cell_type": "markdown",
   "metadata": {},
   "source": [
    "##### How does fare amount vary with trip distance? Explore the correlation between fare amount and trip distance."
   ]
  },
  {
   "cell_type": "code",
   "execution_count": null,
   "metadata": {},
   "outputs": [],
   "source": [
    "# Calculate the correlation coefficient between fare_amount and trip_distance\n",
    "correlation = df.stat.corr('total_amount', 'trip_distance')\n",
    "print(f\"Correlation coefficient between fare amount and trip distance: {correlation}\")"
   ]
  },
  {
   "cell_type": "code",
   "execution_count": null,
   "metadata": {},
   "outputs": [],
   "source": [
    "# Convert Spark DataFrame to Pandas DataFrame for visualization\n",
    "data = df.select('trip_distance', 'total_amount').toPandas()\n",
    "\n",
    "# Plot scatter plot\n",
    "plt.figure(figsize=(10, 6))\n",
    "plt.scatter(data['trip_distance'], data['total_amount'], alpha=0.5, edgecolors='w', s=20)\n",
    "plt.title('Fare Amount vs Trip Distance')\n",
    "plt.xlabel('Trip Distance (miles)')\n",
    "plt.ylabel('Fare Amount ($)')\n",
    "plt.grid(True)\n",
    "plt.show()\n"
   ]
  },
  {
   "cell_type": "code",
   "execution_count": null,
   "metadata": {},
   "outputs": [],
   "source": [
    "# Is there a strong correlation/relationship between Fare Amount and something else?\n",
    "# Get numerical columns\n",
    "numerical_columns = [field.name for field in df.schema.fields if isinstance(field.dataType, (IntegerType, DoubleType))]\n",
    "\n",
    "# Create an empty dictionary to store correlations\n",
    "correlation_matrix = {}\n",
    "\n",
    "# Compute correlations\n",
    "for col1 in numerical_columns:\n",
    "    correlations = []\n",
    "    for col2 in numerical_columns:\n",
    "        corr = df.stat.corr(col1, col2)\n",
    "        correlations.append(corr)\n",
    "    correlation_matrix[col1] = correlations\n",
    "\n",
    "# Convert to pandas DataFrame for better visualisation\n",
    "correlation_df = pd.DataFrame(correlation_matrix, index=numerical_columns, columns=numerical_columns)"
   ]
  },
  {
   "cell_type": "code",
   "execution_count": null,
   "metadata": {},
   "outputs": [],
   "source": [
    "# Round the values in the DataFrame to 2 decimal places\n",
    "correlation_df = correlation_df.round(2)\n",
    "\n",
    "# Plot the heatmap\n",
    "plt.figure(figsize=(10, 8))\n",
    "ax = sns.heatmap(correlation_df, annot=True, cmap='coolwarm', vmin=-1, vmax=1)\n",
    "\n",
    "# Add notes\n",
    "plt.title('Correlation Matrix Heatmap')\n",
    "plt.text(x=1.6, y=0.5, s='Is there a strong correlation/relationship between\\n Fare Amount and something else?', \n",
    "         ha='center', va='center', transform=ax.transAxes, fontsize=12, color='black')\n",
    "\n",
    "plt.show()"
   ]
  },
  {
   "cell_type": "markdown",
   "metadata": {},
   "source": [
    "##### What is the average fare amount for each RatecodeID? Compare fare amounts associated with different rate codes."
   ]
  },
  {
   "cell_type": "code",
   "execution_count": null,
   "metadata": {},
   "outputs": [],
   "source": [
    "# Group by RatecodeID and calculate the average fare amount\n",
    "average_fare_by_ratecode = df.groupBy('rate_code').agg(F.mean('fare_amount').alias('average_fare_amount'))\n",
    "average_fare_by_ratecode.show()"
   ]
  },
  {
   "cell_type": "markdown",
   "metadata": {},
   "source": [
    "##### What time of day sees the highest number of pickups? Identify peak hours for ride requests."
   ]
  },
  {
   "cell_type": "code",
   "execution_count": null,
   "metadata": {},
   "outputs": [],
   "source": [
    "# Extract the hour from the pickup datetime\n",
    "rc_with_hour = df.withColumn('pickup_hour', F.hour('lpep_pickup_datetime'))\n",
    "\n",
    "# Group by the extracted hour and count the number of pickups\n",
    "hourly_pickups = rc_with_hour.groupBy('pickup_hour').count()\n",
    "\n",
    "# Sort the results by count in descending order\n",
    "sorted_hourly_pickups = hourly_pickups.orderBy(F.desc('count'))\n",
    "sorted_hourly_pickups.show(15)"
   ]
  },
  {
   "cell_type": "markdown",
   "metadata": {},
   "source": [
    "##### How many trips are made per day? - to be calculated"
   ]
  },
  {
   "cell_type": "code",
   "execution_count": null,
   "metadata": {},
   "outputs": [],
   "source": [
    "# Extract date from pickup datetime and calculate number of trips for each day\n",
    "daily_trips = df.withColumn(\"date\", date_format(col(\"lpep_pickup_datetime\"), \"yyyy-MM-dd\")).groupBy(\"date\").agg(count(\"date\").alias(\"trip_count\")).orderBy(\"date\")\n",
    "\n",
    "# Calculate the average number of trips per day\n",
    "total_trips = daily_trips.agg(sum(\"trip_count\").alias(\"total_trips\")).collect()[0][\"total_trips\"]\n",
    "unique_days_count = daily_trips.count()\n",
    "average_trips_per_day = total_trips / unique_days_count\n",
    "\n",
    "print(f\"Average number of trips per day: {average_trips_per_day}\")"
   ]
  },
  {
   "cell_type": "markdown",
   "metadata": {},
   "source": [
    "### Passenger and Trip Analysis"
   ]
  },
  {
   "cell_type": "markdown",
   "metadata": {},
   "source": [
    "##### What is the average number of passengers in a trip?"
   ]
  },
  {
   "cell_type": "code",
   "execution_count": null,
   "metadata": {},
   "outputs": [],
   "source": [
    "mean_passengers = df.agg({'passenger_count': 'mean'}).collect()[0][0]\n",
    "\n",
    "print(\"Average number of passengers per trip:\", mean_passengers)"
   ]
  },
  {
   "cell_type": "markdown",
   "metadata": {},
   "source": [
    "##### How does the passenger count affect total fare amount?"
   ]
  },
  {
   "cell_type": "code",
   "execution_count": null,
   "metadata": {},
   "outputs": [],
   "source": [
    "# Group by passenger_count and calculate the average total_amount\n",
    "passenger_fare = df.groupBy(\"passenger_count\").avg(\"total_amount\")\n",
    "passenger_fare.show()"
   ]
  },
  {
   "cell_type": "code",
   "execution_count": null,
   "metadata": {},
   "outputs": [],
   "source": [
    "# Convert to Pandas DataFrame for better visualization\n",
    "passenger_fare_df = passenger_fare.toPandas()\n",
    "\n",
    "# Rename columns for better readability\n",
    "passenger_fare_df.columns = [\"passenger_count\", \"average_total_amount\"]"
   ]
  },
  {
   "cell_type": "code",
   "execution_count": null,
   "metadata": {},
   "outputs": [],
   "source": [
    "# Plot the relationship between passenger count and average total fare\n",
    "plt.figure(figsize=(10, 6))\n",
    "sns.barplot(x=\"passenger_count\", y=\"average_total_amount\", data=passenger_fare_df, palette=\"viridis\")\n",
    "plt.title('Average Total Fare by Passenger Count')\n",
    "plt.xlabel('Passenger Count')\n",
    "plt.ylabel('Average Total Fare')\n",
    "plt.show()"
   ]
  },
  {
   "cell_type": "markdown",
   "metadata": {},
   "source": [
    "##### What is the distribution of trip types in the dataset? Analyze how different trip types are represented."
   ]
  },
  {
   "cell_type": "code",
   "execution_count": null,
   "metadata": {},
   "outputs": [],
   "source": [
    "# Count the occurrences of each trip type\n",
    "trip_type_counts = df.groupBy(\"trip_type\").count()\n",
    "trip_type_counts.show()\n",
    "\n",
    "# Convert to Pandas DataFrame for better visualization\n",
    "trip_type_counts_df = trip_type_counts.toPandas()\n",
    "\n",
    "# Rename columns for better readability\n",
    "trip_type_counts_df.columns = [\"trip_type\", \"count\"]\n",
    "\n",
    "# Plot the distribution of trip types\n",
    "plt.figure(figsize=(10, 6))\n",
    "sns.barplot(x=\"trip_type\", y=\"count\", data=trip_type_counts_df, palette=\"viridis\")\n",
    "plt.title('Distribution of Trip Types')\n",
    "plt.xlabel('Trip Type')\n",
    "plt.ylabel('Count')\n",
    "plt.xticks(rotation=45)\n",
    "plt.show()\n"
   ]
  },
  {
   "cell_type": "markdown",
   "metadata": {},
   "source": [
    "### Payment and Financial Analysis"
   ]
  },
  {
   "cell_type": "markdown",
   "metadata": {},
   "source": [
    "##### What is the average tip amount per trip? Explore average tips and their distribution."
   ]
  },
  {
   "cell_type": "code",
   "execution_count": null,
   "metadata": {},
   "outputs": [],
   "source": [
    "# Calculate the average tip amount per trip\n",
    "average_tip = df.agg(avg(\"tip_amount\")).collect()[0][0]\n",
    "print(f\"Average Tip Amount per Trip: {average_tip}\")"
   ]
  },
  {
   "cell_type": "markdown",
   "metadata": {},
   "source": [
    "##### How do different payment types impact fare amounts? Compare average fares based on payment type."
   ]
  },
  {
   "cell_type": "code",
   "execution_count": null,
   "metadata": {},
   "outputs": [],
   "source": [
    "# Calculate average fare amount by payment type\n",
    "average_fares = df.groupBy(\"payment_type\").agg(avg(\"fare_amount\").alias(\"average_fare\")).orderBy(\"payment_type\")\n",
    "average_fares.show()"
   ]
  },
  {
   "cell_type": "code",
   "execution_count": null,
   "metadata": {},
   "outputs": [],
   "source": [
    "average_fares_pd = average_fares.toPandas()"
   ]
  },
  {
   "cell_type": "code",
   "execution_count": null,
   "metadata": {},
   "outputs": [],
   "source": [
    "# Plot the average fare amounts by payment type\n",
    "plt.figure(figsize=(10, 6))\n",
    "sns.barplot(data=average_fares_pd, x='payment_type', y='average_fare', palette='viridis')\n",
    "plt.title('Average Fare Amount by Payment Type')\n",
    "plt.xlabel('Payment Type')\n",
    "plt.ylabel('Average Fare Amount')\n",
    "plt.xticks(rotation=45)\n",
    "plt.show()"
   ]
  },
  {
   "cell_type": "markdown",
   "metadata": {},
   "source": [
    "##### What percentage of total fare is made up of tips? Analyze the contribution of tips to total fare amounts."
   ]
  },
  {
   "cell_type": "code",
   "execution_count": null,
   "metadata": {},
   "outputs": [],
   "source": [
    "# Calculate total fare and total tip amounts\n",
    "totals = df.agg(\n",
    "    spark_sum(\"total_amount\").alias(\"total_fare\"),  \n",
    "    spark_sum(\"tip_amount\").alias(\"total_tips\")      \n",
    ").collect()[0]\n",
    "\n",
    "total_fare = totals[\"total_fare\"]\n",
    "total_tips = totals[\"total_tips\"]\n",
    "\n",
    "# Calculate the percentage of total fare that is made up of tips\n",
    "tip_percentage = (total_tips / total_fare) * 100 if total_fare != 0 else 0\n",
    "\n",
    "print(f\"Total Fare: ${total_fare:.2f}\")\n",
    "print(f\"Total Tips: ${total_tips:.2f}\")\n",
    "print(f\"Percentage of Total Fare Made Up of Tips: {tip_percentage:.2f}%\")\n"
   ]
  },
  {
   "cell_type": "markdown",
   "metadata": {},
   "source": [
    "### Location Based Analysis"
   ]
  },
  {
   "cell_type": "markdown",
   "metadata": {},
   "source": [
    "##### Which pickup and drop-off locations are the most popular? Identify the most common pickup and drop-off locations."
   ]
  },
  {
   "cell_type": "code",
   "execution_count": null,
   "metadata": {},
   "outputs": [],
   "source": [
    "taxi_zone_df.show(5)"
   ]
  },
  {
   "cell_type": "code",
   "execution_count": null,
   "metadata": {},
   "outputs": [],
   "source": [
    "# Count the occurrences of each pickup location\n",
    "popular_pickups = df.groupBy(\"PULocationID\").count().orderBy(F.col(\"count\").desc()).limit(10)\n",
    "\n",
    "# Rename the LocationID in the taxi_zone_df\n",
    "temp_taxi_zone_df = taxi_zone_df.withColumnRenamed(\"LocationID\", \"PULocationID\")\n",
    "\n",
    "# Join with taxi zone data\n",
    "popular_pickups = popular_pickups.join(temp_taxi_zone_df, on=['PULocationID'], how='left')\n",
    "\n",
    "# Reorder based on count after joining\n",
    "popular_pickups = popular_pickups.orderBy(F.col(\"count\").desc())\n",
    "\n",
    "print(\"Most Popular Pickup Locations:\")\n",
    "popular_pickups.show(10)"
   ]
  },
  {
   "cell_type": "code",
   "execution_count": null,
   "metadata": {},
   "outputs": [],
   "source": [
    "# Repeat the process with dropoffs\n",
    "popular_dropoffs = df.groupBy(\"DOLocationID\").count().orderBy(F.col(\"count\").desc()).limit(10)\n",
    "temp_taxi_zone_df = taxi_zone_df.withColumnRenamed(\"LocationID\", \"DOLocationID\")\n",
    "popular_dropoffs = popular_dropoffs.join(temp_taxi_zone_df, on=['DOLocationID'], how='left')\n",
    "popular_dropoffs = popular_dropoffs.orderBy(F.col(\"count\").desc())\n",
    "\n",
    "print(\"Most Popular Drop-off Locations:\")\n",
    "popular_dropoffs.show(10)"
   ]
  },
  {
   "cell_type": "markdown",
   "metadata": {},
   "source": [
    "##### How do trip distances vary by pickup location? Explore the average trip distance for different pickup locations."
   ]
  },
  {
   "cell_type": "code",
   "execution_count": null,
   "metadata": {},
   "outputs": [],
   "source": [
    "# Calculate the average trip distance for each pickup location\n",
    "avg_trip_distance_by_pickup = df.groupBy(\"PULocationID\") \\\n",
    "    .agg(avg(\"trip_distance\").alias(\"avg_trip_distance\")) \\\n",
    "    .orderBy(col(\"avg_trip_distance\").desc())\n",
    "\n",
    "avg_trip_distance_by_pickup.show()"
   ]
  },
  {
   "cell_type": "markdown",
   "metadata": {},
   "source": [
    "##### Are there any patterns in trip distances based on time of day? Analyze if trip distances differ significantly during different times of the day."
   ]
  },
  {
   "cell_type": "code",
   "execution_count": null,
   "metadata": {},
   "outputs": [],
   "source": [
    "# Extract the hour from the pickup datetime and create a new column\n",
    "df = df.withColumn(\"pickup_hour\", hour(col(\"lpep_pickup_datetime\")))\n",
    "\n",
    "# Calculate the average trip distance for each hour of the day\n",
    "avg_trip_distance_by_hour = df.groupBy(\"pickup_hour\") \\\n",
    "    .agg(avg(\"trip_distance\").alias(\"avg_trip_distance\")) \\\n",
    "    .orderBy(\"pickup_hour\")\n",
    "\n",
    "avg_trip_distance_by_hour.show()"
   ]
  },
  {
   "cell_type": "markdown",
   "metadata": {},
   "source": [
    "# 13. Are there notable differences in fare amounts based on pickup locations? Explore fare variations based on where trips start."
   ]
  },
  {
   "cell_type": "markdown",
   "metadata": {},
   "source": [
    "### Time-Based Analysis"
   ]
  },
  {
   "cell_type": "markdown",
   "metadata": {},
   "source": [
    "##### What are the average trip durations? Calculate and analyze the duration of trips based on pickup and drop-off times."
   ]
  },
  {
   "cell_type": "code",
   "execution_count": null,
   "metadata": {},
   "outputs": [],
   "source": [
    "# Calculate trip duration in seconds\n",
    "df = df.withColumn(\"trip_duration\", unix_timestamp(col(\"lpep_dropoff_datetime\")) - unix_timestamp(col(\"lpep_pickup_datetime\")))\n",
    "\n",
    "# Calculate average trip duration\n",
    "average_trip_duration = df.agg(avg(\"trip_duration\").alias(\"average_trip_duration\")).collect()[0][0]\n",
    "\n",
    "# Convert seconds to a more readable format (hours:minutes:seconds)\n",
    "avg_hours = average_trip_duration // 3600\n",
    "avg_minutes = (average_trip_duration % 3600) // 60\n",
    "avg_seconds = average_trip_duration % 60\n",
    "\n",
    "print(f\"Average Trip Duration: {avg_hours} hours, {avg_minutes} minutes, and {avg_seconds} seconds.\")"
   ]
  },
  {
   "cell_type": "markdown",
   "metadata": {},
   "source": [
    "### Anomaly detection"
   ]
  },
  {
   "cell_type": "markdown",
   "metadata": {},
   "source": [
    "##### Are there any outliers in fare amounts? Identify and analyze extreme fare amounts to understand their causes."
   ]
  },
  {
   "cell_type": "code",
   "execution_count": null,
   "metadata": {},
   "outputs": [],
   "source": [
    "# Calculate the first and third quartiles (Q1 and Q3) and IQR\n",
    "quartiles = df.approxQuantile(\"fare_amount\", [0.25, 0.75], 0.01)\n",
    "Q1 = quartiles[0]\n",
    "Q3 = quartiles[1]\n",
    "IQR = Q3 - Q1\n",
    "\n",
    "# Define upper and lower bounds for outliers\n",
    "lower_bound = Q1 - 1.5 * IQR\n",
    "upper_bound = Q3 + 1.5 * IQR\n",
    "\n",
    "# Filter the DataFrame to find outliers\n",
    "outliers = df.filter((col(\"fare_amount\") < lower_bound) | (col(\"fare_amount\") > upper_bound))\n",
    "\n",
    "# Select specific columns to display\n",
    "selected_columns = [\"lpep_pickup_datetime\", \"lpep_dropoff_datetime\", \"rate_code\", \"PULocationID\", \"DOLocationID\", \"passenger_count\", \"trip_distance\", \"fare_amount\"]\n",
    "outliers_selected = outliers.select(*selected_columns)\n",
    "\n",
    "# Count the number of outliers\n",
    "outlier_count = outliers_selected.count()\n",
    "print(f\"Number of outliers in fare amounts: {outlier_count}\")\n",
    "\n",
    "outliers_selected.show()\n",
    "\n",
    "# Analyse the distribution of outliers\n",
    "outlier_summary = outliers_selected.agg(\n",
    "    mean(\"fare_amount\").alias(\"mean_fare\"),\n",
    "    stddev(\"fare_amount\").alias(\"stddev_fare\"),\n",
    "    count(\"*\").alias(\"total_count\")\n",
    ")\n",
    "outlier_summary.show()"
   ]
  },
  {
   "cell_type": "markdown",
   "metadata": {},
   "source": [
    "### Additional Questions"
   ]
  },
  {
   "cell_type": "markdown",
   "metadata": {},
   "source": [
    "##### What are the most common combinations of pickup and drop-off locations. Analyze popular route combinations."
   ]
  },
  {
   "cell_type": "code",
   "execution_count": null,
   "metadata": {},
   "outputs": [],
   "source": [
    "# Group by pickup and drop-off locations and count the occurrences\n",
    "common_routes = df.groupBy(\"PULocationID\", \"DOLocationID\").count().orderBy(col(\"count\").desc()).limit(10)\n",
    "common_routes.show()"
   ]
  },
  {
   "cell_type": "markdown",
   "metadata": {},
   "source": [
    "##### Is there a relationship between congestion surcharge and trip distance or time? Investigate how congestion affects fares."
   ]
  },
  {
   "cell_type": "code",
   "execution_count": null,
   "metadata": {},
   "outputs": [],
   "source": [
    "# Calculate the correlation between congestion surcharge and trip distance\n",
    "congestion_distance_corr = df.stat.corr(\"congestion_surcharge\", \"trip_distance\")\n",
    "print(f\"Correlation between congestion surcharge and trip distance: {congestion_distance_corr}\")\n",
    "\n",
    "# Calculate the trip duration in minutes\n",
    "df = df.withColumn(\"trip_duration\", (col(\"lpep_dropoff_datetime\").cast(\"long\") - col(\"lpep_pickup_datetime\").cast(\"long\")) / 60)\n",
    "\n",
    "# Calculate the correlation between congestion surcharge and trip duration\n",
    "congestion_duration_corr = df.stat.corr(\"congestion_surcharge\", \"trip_duration\")\n",
    "print(f\"Correlation between congestion surcharge and trip duration: {congestion_duration_corr}\")"
   ]
  },
  {
   "cell_type": "markdown",
   "metadata": {},
   "source": [
    "##### How does the extra charge impact the total amount collected per trip? Explore the effect of additional fees on overall fare.\n"
   ]
  },
  {
   "cell_type": "code",
   "execution_count": null,
   "metadata": {},
   "outputs": [],
   "source": [
    "# Calculate the average total amount with and without extra charges\n",
    "avg_total_with_extra = df.filter(col(\"extra\") > 0).agg(avg(\"total_amount\")).collect()[0][0]\n",
    "avg_total_without_extra = df.filter(col(\"extra\") == 0).agg(avg(\"total_amount\")).collect()[0][0]\n",
    "\n",
    "print(f\"Average total amount with extra charges: {avg_total_with_extra}\")\n",
    "print(f\"Average total amount without extra charges: {avg_total_without_extra}\")\n",
    "\n",
    "# Show the impact of extra charges\n",
    "impact = avg_total_with_extra - avg_total_without_extra\n",
    "print(f\"Impact of extra charge on total amount collected per trip: {impact}\")"
   ]
  }
 ],
 "metadata": {
  "kernelspec": {
   "display_name": "Python 3",
   "language": "python",
   "name": "python3"
  },
  "language_info": {
   "codemirror_mode": {
    "name": "ipython",
    "version": 3
   },
   "file_extension": ".py",
   "mimetype": "text/x-python",
   "name": "python",
   "nbconvert_exporter": "python",
   "pygments_lexer": "ipython3",
   "version": "3.9.12"
  }
 },
 "nbformat": 4,
 "nbformat_minor": 2
}
